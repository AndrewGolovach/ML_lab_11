{
 "cells": [
  {
   "cell_type": "markdown",
   "metadata": {},
   "source": [
    "### Домашнее задание №11 по курсу \"Машинное обучение\"\n",
    "Головач Андрей"
   ]
  },
  {
   "cell_type": "code",
   "execution_count": 2,
   "metadata": {
    "collapsed": true
   },
   "outputs": [],
   "source": [
    "import os\n",
    "\n",
    "from sklearn.datasets import fetch_mldata\n",
    "from sklearn.utils import shuffle\n",
    "from sklearn.model_selection import train_test_split\n",
    "from sklearn.svm import SVC\n",
    "from sklearn import metrics"
   ]
  },
  {
   "cell_type": "markdown",
   "metadata": {},
   "source": [
    "Ниже представлена функция, осуществляющий загрузку и подготовку датасета MNIST original. В рамках подготовки осуществляется нормализация данных, их перемешивание, разделение на тренировочную и тестовую выборки (в отношении 6:1) и представление в виде словаря, удобного для обращения к тренировочным и тестовым данным."
   ]
  },
  {
   "cell_type": "code",
   "execution_count": 7,
   "metadata": {
    "collapsed": true
   },
   "outputs": [],
   "source": [
    "def get_prepared_data():\n",
    "    mnist = fetch_mldata('mnist-original', data_home='data')\n",
    "    x = mnist.data\n",
    "    y = mnist.target\n",
    "\n",
    "    x = x / 255.0 * 2 - 1\n",
    "    x, y = shuffle(x, y, random_state=0)\n",
    "\n",
    "    x_train, x_test, y_train, y_test = train_test_split(x, y, test_size=0.14285, random_state=42)\n",
    "\n",
    "    return {'train': {'X': x_train,\n",
    "                      'y': y_train},\n",
    "            'test': {'X': x_test,\n",
    "                     'y': y_test}}"
   ]
  },
  {
   "cell_type": "markdown",
   "metadata": {},
   "source": [
    "Тюнинг параметров модели SVM:"
   ]
  },
  {
   "cell_type": "code",
   "execution_count": 15,
   "metadata": {
    "collapsed": false
   },
   "outputs": [
    {
     "name": "stdout",
     "output_type": "stream",
     "text": [
      "Accuracy: 0.9562 for C=0.5, gamma=0.0050\n",
      "Accuracy: 0.9587 for C=0.5, gamma=0.0100\n",
      "Accuracy: 0.7529 for C=0.5, gamma=0.0250\n",
      "Accuracy: 0.2537 for C=0.5, gamma=0.0500\n",
      "Accuracy: 0.9639 for C=1.0, gamma=0.0050\n",
      "Accuracy: 0.9663 for C=1.0, gamma=0.0100\n",
      "Accuracy: 0.8772 for C=1.0, gamma=0.0250\n",
      "Accuracy: 0.5662 for C=1.0, gamma=0.0500\n",
      "Accuracy: 0.9679 for C=2.0, gamma=0.0050\n",
      "Accuracy: 0.9669 for C=2.0, gamma=0.0100\n",
      "Accuracy: 0.8842 for C=2.0, gamma=0.0250\n",
      "Accuracy: 0.5981 for C=2.0, gamma=0.0500\n",
      "Accuracy: 0.9681 for C=4.0, gamma=0.0050\n",
      "Accuracy: 0.9671 for C=4.0, gamma=0.0100\n",
      "Accuracy: 0.8842 for C=4.0, gamma=0.0250\n",
      "Accuracy: 0.5981 for C=4.0, gamma=0.0500\n"
     ]
    }
   ],
   "source": [
    "data = get_prepared_data()\n",
    "\n",
    "C_2d_range = [0.5, 1, 2, 4]\n",
    "gamma_2d_range = [0.005, 0.01, 0.025, 0.05]\n",
    "classifiers = []\n",
    "\n",
    "x_tune, y_tune = data['train']['X'][:10000], data['train']['y'][:10000]\n",
    "\n",
    "for C in C_2d_range:\n",
    "    for gamma in gamma_2d_range:\n",
    "        clf = SVC(kernel=\"rbf\", C=C, gamma=gamma)\n",
    "\n",
    "        experimental_set_len = 10000\n",
    "\n",
    "        clf.fit(x_tune, y_tune)\n",
    "        classifiers.append((C, gamma, clf))\n",
    "\n",
    "        predicted = clf.predict(data['test']['X'])\n",
    "        print(\"Accuracy: %0.4f for C=%0.1f, gamma=%0.4f\" %\n",
    "              (metrics.accuracy_score(data['test']['y'], predicted), C, gamma))"
   ]
  },
  {
   "cell_type": "markdown",
   "metadata": {},
   "source": [
    "Попробуем более детально рассмотреть участок с наиболее высокими показателями точности"
   ]
  },
  {
   "cell_type": "code",
   "execution_count": 6,
   "metadata": {
    "collapsed": false
   },
   "outputs": [
    {
     "name": "stdout",
     "output_type": "stream",
     "text": [
      "Accuracy: 0.9679 for C=2.0, gamma=0.0050\n",
      "Accuracy: 0.9683 for C=2.0, gamma=0.0075\n",
      "Accuracy: 0.9669 for C=2.0, gamma=0.0100\n",
      "Accuracy: 0.9684 for C=2.5, gamma=0.0050\n",
      "Accuracy: 0.9681 for C=2.5, gamma=0.0075\n",
      "Accuracy: 0.9670 for C=2.5, gamma=0.0100\n",
      "Accuracy: 0.9683 for C=3.0, gamma=0.0050\n",
      "Accuracy: 0.9681 for C=3.0, gamma=0.0075\n",
      "Accuracy: 0.9671 for C=3.0, gamma=0.0100\n",
      "Accuracy: 0.9682 for C=3.5, gamma=0.0050\n",
      "Accuracy: 0.9681 for C=3.5, gamma=0.0075\n",
      "Accuracy: 0.9671 for C=3.5, gamma=0.0100\n",
      "Accuracy: 0.9681 for C=4.0, gamma=0.0050\n",
      "Accuracy: 0.9682 for C=4.0, gamma=0.0075\n",
      "Accuracy: 0.9671 for C=4.0, gamma=0.0100\n"
     ]
    }
   ],
   "source": [
    "data = get_prepared_data()\n",
    "\n",
    "C_2d_range = [2, 2.5, 3, 3.5, 4]\n",
    "gamma_2d_range = [0.005, 0.0075, 0.01]\n",
    "classifiers = []\n",
    "\n",
    "x_tune, y_tune = data['train']['X'][:10000], data['train']['y'][:10000]\n",
    "\n",
    "for C in C_2d_range:\n",
    "    for gamma in gamma_2d_range:\n",
    "        clf = SVC(kernel=\"rbf\", C=C, gamma=gamma)\n",
    "\n",
    "        clf.fit(x_tune, y_tune)\n",
    "        classifiers.append((C, gamma, clf))\n",
    "\n",
    "        predicted = clf.predict(data['test']['X'])\n",
    "        print(\"Accuracy: %0.4f for C=%0.1f, gamma=%0.4f\" %\n",
    "              (metrics.accuracy_score(data['test']['y'], predicted), C, gamma))"
   ]
  },
  {
   "cell_type": "code",
   "execution_count": 8,
   "metadata": {
    "collapsed": false
   },
   "outputs": [
    {
     "name": "stdout",
     "output_type": "stream",
     "text": [
      "Accuracy: 0.9862\n"
     ]
    }
   ],
   "source": [
    "data = get_prepared_data()\n",
    "\n",
    "clf = SVC(kernel=\"rbf\", C=2.5, gamma=0.005)\n",
    "clf.fit(data['train']['X'][:], data['train']['y'][:])\n",
    "\n",
    "predicted = clf.predict(data['test']['X'])\n",
    "print(\"Accuracy: %0.4f\" % metrics.accuracy_score(data['test']['y'], predicted))"
   ]
  }
 ],
 "metadata": {
  "kernelspec": {
   "display_name": "Python 3",
   "language": "python",
   "name": "python3"
  },
  "language_info": {
   "codemirror_mode": {
    "name": "ipython",
    "version": 3
   },
   "file_extension": ".py",
   "mimetype": "text/x-python",
   "name": "python",
   "nbconvert_exporter": "python",
   "pygments_lexer": "ipython3",
   "version": "3.6.1"
  }
 },
 "nbformat": 4,
 "nbformat_minor": 2
}
